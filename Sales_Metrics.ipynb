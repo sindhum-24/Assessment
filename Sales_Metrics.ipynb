{
 "cells": [
  {
   "cell_type": "code",
   "execution_count": null,
   "id": "8b34d2d7-3b1a-4ebf-8411-a044dd5e3d0f",
   "metadata": {},
   "outputs": [],
   "source": [
    "# BASIC SET UP\n",
    "# Read the data from the flat file\n",
    "# Store the data to the dataframe\n",
    "# Set up data connection to the SQLite database\n",
    "# Set up a databse table to store the data from the\n",
    "# Run the SQL script\n",
    "# Output the result set to a flat file"
   ]
  },
  {
   "cell_type": "code",
   "execution_count": 12,
   "id": "cef845ce-14a1-4c97-8529-68d51dd5012a",
   "metadata": {},
   "outputs": [
    {
     "name": "stdout",
     "output_type": "stream",
     "text": [
      "Successful Query Execution\n",
      "File name - superstore_sales_by_dimensions.csv\n",
      "     region         category sub_category total_sales total_profit\n",
      "0   Central        Furniture  Furnishings  $163797.16    $-2871.05\n",
      "1   Central  Office Supplies   Appliances  $167026.42     $8879.98\n",
      "2   Central       Technology       Phones  $170416.31    $33697.43\n",
      "3      East        Furniture       Chairs   $208291.2     $3046.17\n",
      "4      East  Office Supplies      Binders  $205516.05    $41014.58\n",
      "5      East       Technology  Accessories  $264973.98    $47462.04\n",
      "6     South        Furniture    Bookcases  $117298.68     $6771.21\n",
      "7     South  Office Supplies      Storage  $125651.31    $19986.39\n",
      "8     South       Technology  Accessories  $148771.91    $19991.83\n",
      "9      West        Furniture  Furnishings  $252612.74    $11504.95\n",
      "10     West  Office Supplies       Labels  $220853.25    $52609.85\n",
      "11     West       Technology       Phones  $251991.83    $44303.65\n"
     ]
    }
   ],
   "source": [
    "import pandas as pd\n",
    "import sqlite3\n",
    "\n",
    "df = pd.read_csv(\"superstore_orders.csv\")\n",
    "\n",
    "conn = sqlite3.connect(\":memory:\") \n",
    "df.to_sql(\"store_orders\", conn, index=False, if_exists=\"replace\") # 'store_orders' is the datatable name\n",
    "\n",
    "# Ideally we can set up a folder/directory with all the SQL scripts to be run.\n",
    "\n",
    "# Using only a single sample query here as SQLite can execute only 1 SQL script per execution\n",
    "# Many of the date functions are not compatible in SQLite to perform complex time-series analysis.\n",
    "query = \"\"\"\n",
    "    SELECT\n",
    "        region\n",
    "        ,category\n",
    "        ,sub_category\n",
    "        ,CONCAT('$',ROUND(SUM(sales),2)) as total_sales\n",
    "        ,CONCAT('$',ROUND(SUM(profit),2)) as total_profit\n",
    "    FROM store_orders\n",
    "    group by 1,2;\n",
    "\"\"\"\n",
    "\n",
    "result = pd.read_sql_query(query, conn)\n",
    "\n",
    "output_csv = \"superstore_sales_by_dimensions.csv\"\n",
    "result.to_csv(output_csv, index=False)\n",
    "\n",
    "print(\"Successful Query Execution\")\n",
    "print(\"File name -\" ,output_csv)\n",
    "print(result)"
   ]
  },
  {
   "cell_type": "code",
   "execution_count": null,
   "id": "a754b80b-dda8-4109-984c-5543380140c4",
   "metadata": {},
   "outputs": [],
   "source": []
  }
 ],
 "metadata": {
  "kernelspec": {
   "display_name": "Python 3 (ipykernel)",
   "language": "python",
   "name": "python3"
  },
  "language_info": {
   "codemirror_mode": {
    "name": "ipython",
    "version": 3
   },
   "file_extension": ".py",
   "mimetype": "text/x-python",
   "name": "python",
   "nbconvert_exporter": "python",
   "pygments_lexer": "ipython3",
   "version": "3.13.7"
  }
 },
 "nbformat": 4,
 "nbformat_minor": 5
}
