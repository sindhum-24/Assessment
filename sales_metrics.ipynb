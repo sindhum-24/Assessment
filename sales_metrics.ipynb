{
 "cells": [
  {
   "cell_type": "code",
   "execution_count": null,
   "id": "81f95966-a74c-4363-8649-1f5935b1d47e",
   "metadata": {},
   "outputs": [],
   "source": [
    "# BASIC SET UP\n",
    "# Read the data from the flat file\n",
    "# Store the data to the dataframe\n",
    "# Set up data connection to the SQLite database\n",
    "# Set up a databse table to store the data from the\n",
    "# Run the SQL script\n",
    "# Output the result set to a flat file"
   ]
  },
  {
   "cell_type": "code",
   "execution_count": 1,
   "id": "b6df4701-7547-4ba3-b92c-ab7ee35dd7f3",
   "metadata": {},
   "outputs": [
    {
     "name": "stdout",
     "output_type": "stream",
     "text": [
      "Successful Query Execution\n",
      "File name - superstore_sales_by_dimensions.csv\n",
      "     region         category sub_category total_sales total_profit\n",
      "0   Central        Furniture    Bookcases   $24157.18     $-1997.9\n",
      "1   Central        Furniture       Chairs   $85230.65     $6592.72\n",
      "2   Central        Furniture  Furnishings   $15254.37    $-3906.22\n",
      "3   Central        Furniture       Tables   $39154.97    $-3559.65\n",
      "4   Central  Office Supplies   Appliances   $23582.03    $-2638.62\n",
      "..      ...              ...          ...         ...          ...\n",
      "63     West  Office Supplies     Supplies   $18127.12      $626.05\n",
      "64     West       Technology  Accessories   $61114.12     $16484.6\n",
      "65     West       Technology      Copiers   $49749.24    $19327.24\n",
      "66     West       Technology     Machines   $42444.12     $-618.93\n",
      "67     West       Technology       Phones   $98684.35     $9110.74\n",
      "\n",
      "[68 rows x 5 columns]\n"
     ]
    }
   ],
   "source": [
    "import pandas as pd\n",
    "import sqlite3\n",
    "\n",
    "df = pd.read_csv(\"superstore_orders.csv\")\n",
    "\n",
    "conn = sqlite3.connect(\":memory:\") \n",
    "df.to_sql(\"store_orders\", conn, index=False, if_exists=\"replace\") # 'store_orders' is the datatable name\n",
    "\n",
    "# Ideally we can set up a folder/directory with all the SQL scripts to be run.\n",
    "\n",
    "# Using only a single sample query here as SQLite can execute only 1 SQL script per execution\n",
    "# Many of the date functions are not compatible in SQLite to perform complex time-series analysis.\n",
    "\n",
    "query = \"\"\"\n",
    "    SELECT\n",
    "        region\n",
    "        ,category\n",
    "        ,sub_category\n",
    "        ,CONCAT('$',ROUND(SUM(sales),2)) as total_sales\n",
    "        ,CONCAT('$',ROUND(SUM(profit),2)) as total_profit\n",
    "    FROM store_orders\n",
    "    group by 1,2,3\n",
    "    order by 1,2,3;\n",
    "\"\"\"\n",
    "\n",
    "result = pd.read_sql_query(query, conn)\n",
    "\n",
    "output_csv = \"superstore_sales_by_dimensions.csv\"\n",
    "result.to_csv(output_csv, index=False)\n",
    "\n",
    "print(\"Successful Query Execution\")\n",
    "print(\"File name -\" ,output_csv)\n",
    "print(result)"
   ]
  },
  {
   "cell_type": "code",
   "execution_count": null,
   "id": "e5f30578-52b1-4771-b633-a34af6b2616b",
   "metadata": {},
   "outputs": [],
   "source": []
  }
 ],
 "metadata": {
  "kernelspec": {
   "display_name": "Python 3 (ipykernel)",
   "language": "python",
   "name": "python3"
  },
  "language_info": {
   "codemirror_mode": {
    "name": "ipython",
    "version": 3
   },
   "file_extension": ".py",
   "mimetype": "text/x-python",
   "name": "python",
   "nbconvert_exporter": "python",
   "pygments_lexer": "ipython3",
   "version": "3.13.7"
  }
 },
 "nbformat": 4,
 "nbformat_minor": 5
}
